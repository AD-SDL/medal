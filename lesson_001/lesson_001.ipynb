{
 "cells": [
  {
   "cell_type": "markdown",
   "id": "2b4bfe2d-43c0-428c-844e-c0f326727e4d",
   "metadata": {},
   "source": [
    "# Lesson 001: Getting Started Using WEI"
   ]
  },
  {
   "cell_type": "markdown",
   "id": "88eef2bd-aa1a-4690-bd7c-21bba692bfbf",
   "metadata": {},
   "source": [
    "The Workcell Execution Interface (WEI) is a set of tools for automating scientific experiments and enabling autonomous discovery.\n",
    "\n",
    "In this lesson, we'll focus on teaching you how to write an **Experiment Application**: python code that leverages a WEI **Workcell** (a collection of automated instruments, robots, and other devices individually referred to as **Modules**) to run **Workflows** (a linear sequence of actions to be performed on a given Module)."
   ]
  },
  {
   "cell_type": "code",
   "execution_count": null,
   "id": "3e1fc9ef-3ede-42cf-9178-fa2bf43fb07b",
   "metadata": {},
   "outputs": [],
   "source": [
    "# First, we need to install the WEI python package and import it\n",
    "%pip install ad_sdl.wei\n",
    "import wei\n",
    "# We'll also import some additional helpful packages here\n",
    "from pathlib import Path"
   ]
  },
  {
   "cell_type": "markdown",
   "id": "e450d253-b622-4f0f-bf2c-9900355373ad",
   "metadata": {},
   "source": [
    "## The Experiment Client"
   ]
  },
  {
   "cell_type": "markdown",
   "id": "0e2475ea-6e34-4ad4-8541-49e07ee234ae",
   "metadata": {},
   "source": [
    "The `wei.Experiment` class provides a convenient interface to communicate with and control your WEI-powered Workcell."
   ]
  },
  {
   "cell_type": "code",
   "execution_count": null,
   "id": "6101645b-f45b-4abd-ad63-1591fb517364",
   "metadata": {},
   "outputs": [],
   "source": [
    "experiment = wei.Experiment(server_addr=\"wei_server\", server_port=\"8000\", experiment_name=\"Lesson001\")"
   ]
  },
  {
   "cell_type": "markdown",
   "id": "e5a7631c-c6ed-433e-a4b0-76516a8aaf6a",
   "metadata": {},
   "source": [
    "### Running Workflows with the Experiment Client\n",
    "\n",
    "You can run workflows using the `start_run()` method of the `ExperimentClient` class. Workflows are defined as `.yaml` files, and we provide the path to our workflow definition file as an argument to the `start_run()` method."
   ]
  },
  {
   "cell_type": "code",
   "execution_count": null,
   "id": "3ff31965-6402-4bf0-84b4-f17f08591724",
   "metadata": {},
   "outputs": [],
   "source": [
    "# Print the contents of the workflow that we want to run before we run it.\n",
    "workflow_file = Path(\"./workflows/lesson_001.workflow.yaml\")\n",
    "with open(workflow_file, 'r') as f:\n",
    "    print(f.read())\n",
    "experiment.start_run(workflow_file=workflow_file)"
   ]
  },
  {
   "cell_type": "markdown",
   "id": "ff6d3ddb-1ad0-41e3-b8fd-ee0fff7eb11b",
   "metadata": {},
   "source": [
    "Sometimes, you want to reuse a workflow with different parameters. In such cases, you can provide a `payload` argument to your call to `start_run()` with the value of the parameter."
   ]
  },
  {
   "cell_type": "code",
   "execution_count": null,
   "id": "27accd91-0227-4eb2-bed9-cbdf68a1c77c",
   "metadata": {},
   "outputs": [],
   "source": [
    "# Print the contents of the workflow that we want to run before we run it.\n",
    "workflow_file = Path(\"./workflows/lesson_001_payload.workflow.yaml\")\n",
    "with open(workflow_file, 'r') as f:\n",
    "    print(f.read())\n",
    "experiment.start_run(workflow_file=workflow_file, payload={\"t\": 10})"
   ]
  },
  {
   "cell_type": "code",
   "execution_count": null,
   "id": "37d1561b-e031-4693-a9b4-88abd1e5511e",
   "metadata": {},
   "outputs": [],
   "source": []
  }
 ],
 "metadata": {
  "kernelspec": {
   "display_name": "Python 3 (ipykernel)",
   "language": "python",
   "name": "python3"
  },
  "language_info": {
   "codemirror_mode": {
    "name": "ipython",
    "version": 3
   },
   "file_extension": ".py",
   "mimetype": "text/x-python",
   "name": "python",
   "nbconvert_exporter": "python",
   "pygments_lexer": "ipython3",
   "version": "3.11.8"
  }
 },
 "nbformat": 4,
 "nbformat_minor": 5
}
